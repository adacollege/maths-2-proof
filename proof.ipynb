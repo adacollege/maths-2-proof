{
 "cells": [
  {
   "cell_type": "markdown",
   "metadata": {
    "slideshow": {
     "slide_type": "slide"
    }
   },
   "source": [
    "# Proof"
   ]
  },
  {
   "cell_type": "markdown",
   "metadata": {
    "slideshow": {
     "slide_type": "fragment"
    }
   },
   "source": [
    "Number system notation:\n",
    "* the natural numbers $\\mathbb{N}=1,2,3,\\ldots$"
   ]
  },
  {
   "cell_type": "markdown",
   "metadata": {
    "slideshow": {
     "slide_type": "fragment"
    }
   },
   "source": [
    "* the integers $\\mathbb{Z}=-3,-2,-1,0,1,2,3\\ldots$"
   ]
  },
  {
   "cell_type": "markdown",
   "metadata": {
    "slideshow": {
     "slide_type": "fragment"
    }
   },
   "source": [
    "* the rational numbers $\\mathbb{Q}=\\mathbb{Z}, \\dfrac{1}{2}, \\dfrac{-3}{5}, \\dfrac{31}{29}$"
   ]
  },
  {
   "cell_type": "markdown",
   "metadata": {
    "slideshow": {
     "slide_type": "fragment"
    }
   },
   "source": [
    "* the real numbers $\\mathbb{R}=\\mathbb{Q}, \\sqrt{2}, \\pi, e$"
   ]
  },
  {
   "cell_type": "markdown",
   "metadata": {
    "slideshow": {
     "slide_type": "subslide"
    }
   },
   "source": [
    "# Proof by counterexample\n",
    "\n",
    "These statements are all false. Find a counterexample for each\n",
    "\n",
    "> For all $x\\in\\mathbb{R}$, $2x\\neq 2^x$\n",
    "\n",
    "> For all $a,b\\in\\mathbb{R}$, $|a|+|b|\\leq |a+b|$\n",
    "\n",
    "> If $n^2+n$ is even, then $n$ is even, for all $n\\in\\mathbb{Z}$"
   ]
  },
  {
   "cell_type": "markdown",
   "metadata": {
    "slideshow": {
     "slide_type": "subslide"
    }
   },
   "source": [
    "# Direct proof\n",
    "\n",
    "These statements can be proved true directly\n",
    "\n",
    "> If $n$ is even then $n^2+n$ is even, for all $n\\in\\mathbb{Z}$\n",
    "\n",
    "> For all $a,b\\in\\mathbb{R}$, $a^2+b^2\\geq 2ab$\n",
    "\n",
    "> The product of three consecutive integers is always divisible by $6$"
   ]
  },
  {
   "cell_type": "markdown",
   "metadata": {
    "slideshow": {
     "slide_type": "subslide"
    }
   },
   "source": [
    "# Proof by contradiction\n",
    "\n",
    "> There are an infinite number of primes"
   ]
  },
  {
   "cell_type": "markdown",
   "metadata": {
    "slideshow": {
     "slide_type": "subslide"
    }
   },
   "source": [
    "> The square root of two is irrational"
   ]
  },
  {
   "cell_type": "markdown",
   "metadata": {
    "slideshow": {
     "slide_type": "subslide"
    }
   },
   "source": [
    "The following can all be proved by contradiction\n",
    "\n",
    "> The square root of $3$ is irrational\n",
    "\n",
    "> There are an infinite number of even integers\n",
    "\n",
    "> There are no integers for which $18a+6b=1$\n",
    "\n",
    "> For $a,b,c\\in\\mathbb{N}$, if $a^2+b^2=c^2$ then either $a$ or $b$ is even"
   ]
  }
 ],
 "metadata": {
  "celltoolbar": "Slideshow",
  "kernelspec": {
   "display_name": "Python 3",
   "language": "python",
   "name": "python3"
  },
  "language_info": {
   "codemirror_mode": {
    "name": "ipython",
    "version": 3
   },
   "file_extension": ".py",
   "mimetype": "text/x-python",
   "name": "python",
   "nbconvert_exporter": "python",
   "pygments_lexer": "ipython3",
   "version": "3.5.2"
  }
 },
 "nbformat": 4,
 "nbformat_minor": 2
}
